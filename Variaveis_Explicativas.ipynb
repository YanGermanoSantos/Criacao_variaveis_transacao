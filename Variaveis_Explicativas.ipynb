{
  "nbformat": 4,
  "nbformat_minor": 0,
  "metadata": {
    "colab": {
      "provenance": [],
      "authorship_tag": "ABX9TyNK5F+0c5xFdm753dYXkgj1",
      "include_colab_link": true
    },
    "kernelspec": {
      "name": "python3",
      "display_name": "Python 3"
    },
    "language_info": {
      "name": "python"
    }
  },
  "cells": [
    {
      "cell_type": "markdown",
      "metadata": {
        "id": "view-in-github",
        "colab_type": "text"
      },
      "source": [
        "<a href=\"https://colab.research.google.com/github/YanGermanoSantos/Criacao_variavel_transacao/blob/main/Variaveis_Explicativas.ipynb\" target=\"_parent\"><img src=\"https://colab.research.google.com/assets/colab-badge.svg\" alt=\"Open In Colab\"/></a>"
      ]
    },
    {
      "cell_type": "markdown",
      "source": [
        " # Criando Variáveis Explicativas (Feature Engineering)\n",
        "\n",
        "Em um projeto de Ciência de Dados, ter dados é fundamental, mas ainda mais crucial é ter variáveis de alta qualidade. Variáveis bem escolhidas e transformadas são a chave para modelos de Machine Learning mais precisos e confiáveis. Com base no exercício porposto pela PoD Academy, que envolveu dados de movimentações de compras de clientes, meu objetivo é realizar o processo de criação de variáveis preditivas. Essas variáveis serão usadas no futuro para desenvolver um modelo de Machine Learning robusto, capaz de solucionar eficazmente os desafios e necessidades do negócio.\n"
      ],
      "metadata": {
        "id": "ZTFEYo0a5IUk"
      }
    },
    {
      "cell_type": "markdown",
      "source": [
        "## Inicializando ambiente spark"
      ],
      "metadata": {
        "id": "oUBMA37yYt_Z"
      }
    },
    {
      "cell_type": "code",
      "execution_count": 1,
      "metadata": {
        "colab": {
          "base_uri": "https://localhost:8080/"
        },
        "id": "9cRpcOWwlb0v",
        "outputId": "322957d1-5740-47df-f70e-2502abba11d0"
      },
      "outputs": [
        {
          "output_type": "stream",
          "name": "stdout",
          "text": [
            "Collecting pyspark\n",
            "  Downloading pyspark-3.5.0.tar.gz (316.9 MB)\n",
            "\u001b[2K     \u001b[90m━━━━━━━━━━━━━━━━━━━━━━━━━━━━━━━━━━━━━━━\u001b[0m \u001b[32m316.9/316.9 MB\u001b[0m \u001b[31m4.5 MB/s\u001b[0m eta \u001b[36m0:00:00\u001b[0m\n",
            "\u001b[?25h  Preparing metadata (setup.py) ... \u001b[?25l\u001b[?25hdone\n",
            "Requirement already satisfied: py4j==0.10.9.7 in /usr/local/lib/python3.10/dist-packages (from pyspark) (0.10.9.7)\n",
            "Building wheels for collected packages: pyspark\n",
            "  Building wheel for pyspark (setup.py) ... \u001b[?25l\u001b[?25hdone\n",
            "  Created wheel for pyspark: filename=pyspark-3.5.0-py2.py3-none-any.whl size=317425344 sha256=3808064a84d95299d713ab9232723782d558bf5a15103155ef08f385c1baa784\n",
            "  Stored in directory: /root/.cache/pip/wheels/41/4e/10/c2cf2467f71c678cfc8a6b9ac9241e5e44a01940da8fbb17fc\n",
            "Successfully built pyspark\n",
            "Installing collected packages: pyspark\n",
            "Successfully installed pyspark-3.5.0\n"
          ]
        }
      ],
      "source": [
        "!pip install pyspark"
      ]
    },
    {
      "cell_type": "code",
      "source": [
        "from pyspark.sql import SparkSession"
      ],
      "metadata": {
        "id": "jd6zaM8TlnVv"
      },
      "execution_count": 2,
      "outputs": []
    },
    {
      "cell_type": "code",
      "source": [
        "# Inicialize a sessão Spark\n",
        "spark = SparkSession.builder \\\n",
        "    .appName(\"Feature_Engineering\") \\\n",
        "    .getOrCreate()"
      ],
      "metadata": {
        "id": "1NM6GELJlpiP"
      },
      "execution_count": 3,
      "outputs": []
    },
    {
      "cell_type": "markdown",
      "source": [
        "## 1 - Obtenção dos dados"
      ],
      "metadata": {
        "id": "g7hzHfUyY-Lp"
      }
    },
    {
      "cell_type": "markdown",
      "source": [
        "### 1.1 Transacoes\n",
        "Em resumo, essa tabela fornece informações sobre as transações de compra realizadas por diferentes clientes, incluindo detalhes sobre o valor da transação, a data e hora em que ocorreram e a categoria à qual a compra se relaciona."
      ],
      "metadata": {
        "id": "greDBA7346W3"
      }
    },
    {
      "cell_type": "code",
      "source": [
        "# Lendo CVS das transações em Spark\n",
        "df_transacoes = spark.read.csv(\"/content/base_transacoes.csv\", header=True, inferSchema=True)\n",
        "df_transacoes.createOrReplaceTempView(\"df_transacoes\")"
      ],
      "metadata": {
        "id": "fKQG_d5Nl4GR"
      },
      "execution_count": 4,
      "outputs": []
    },
    {
      "cell_type": "markdown",
      "source": [
        "**Dicionário de dados transacoes**\n",
        "* `ID Transação` - Número de identificação único para cada transação no conjunto de dados.\n",
        "* `ID Cliente` - Número de identificação único para cada cliente.\n",
        "* `Data` - Data e hora da transação no formato AAAA-MM-DD HH:MM:SS.\n",
        "* `Valor` - Valor da transação.\n",
        "* `Categoria` - Categoria da transação, que indica o tipo de compra ou produto adquirido."
      ],
      "metadata": {
        "id": "tiNqKuLKnd0O"
      }
    },
    {
      "cell_type": "code",
      "source": [
        "# Lendo primeiras linhas\n",
        "df_transacoes.show()"
      ],
      "metadata": {
        "colab": {
          "base_uri": "https://localhost:8080/"
        },
        "id": "3zYnpLXPvzQO",
        "outputId": "c68c7aea-2c8d-4f36-c7a5-087ab86504c8"
      },
      "execution_count": 5,
      "outputs": [
        {
          "output_type": "stream",
          "name": "stdout",
          "text": [
            "+------------+----------+--------------------+------------------+-----------+\n",
            "|ID Transação|ID Cliente|                Data|             Valor|  Categoria|\n",
            "+------------+----------+--------------------+------------------+-----------+\n",
            "|           1|         1|2022-11-25 13:50:...|57.287427536330505|   Esportes|\n",
            "|           2|         1|2020-01-19 12:27:...| 97.07199340552512|  Alimentos|\n",
            "|           3|         1|2021-12-28 12:33:...|169.10581012381087|     Livros|\n",
            "|           4|         1|2022-02-05 01:39:...|199.38694865538451|     Roupas|\n",
            "|           5|         1|2022-11-16 23:06:...|160.00228343317622|Eletrônicos|\n",
            "|           6|         1|2020-04-25 12:42:...| 9.842481270765422|  Alimentos|\n",
            "|           7|         1|2022-10-31 22:05:...| 76.90706330227667|Eletrônicos|\n",
            "|           8|         1|2020-10-06 12:14:...| 53.20607404593595|     Roupas|\n",
            "|           9|         1|2022-11-02 12:50:...|193.00568791656067|     Livros|\n",
            "|          10|         1|2020-09-06 21:37:...|56.524638713138636|  Alimentos|\n",
            "|          11|         1|2022-01-01 22:30:...| 188.9532871161914|     Livros|\n",
            "|          12|         1|2022-08-10 13:16:...|187.81591513287063|  Alimentos|\n",
            "|          13|         1|2022-12-18 22:35:...|168.68501102043555|     Roupas|\n",
            "|          14|         1|2022-11-17 12:02:...|24.123994506156937|     Roupas|\n",
            "|          15|         1|2022-08-04 07:23:...| 5.389069461264487|     Roupas|\n",
            "|          16|         1|2022-06-07 22:05:...|159.80720142167414|Eletrônicos|\n",
            "|          17|         1|2020-10-06 07:04:...|169.44331623029686|   Esportes|\n",
            "|          18|         2|2020-02-03 21:58:...|192.62543018016476|     Livros|\n",
            "|          19|         2|2021-12-07 02:20:...|47.584609233291935|  Alimentos|\n",
            "|          20|         2|2020-05-04 21:31:...|147.96356124522856|     Livros|\n",
            "+------------+----------+--------------------+------------------+-----------+\n",
            "only showing top 20 rows\n",
            "\n"
          ]
        }
      ]
    },
    {
      "cell_type": "code",
      "source": [
        "# Verificando tipos dos dados\n",
        "df_transacoes.printSchema()"
      ],
      "metadata": {
        "colab": {
          "base_uri": "https://localhost:8080/"
        },
        "id": "lW0v5sI08COM",
        "outputId": "483d45af-f7e7-45c3-efdb-6fd7398cf946"
      },
      "execution_count": 6,
      "outputs": [
        {
          "output_type": "stream",
          "name": "stdout",
          "text": [
            "root\n",
            " |-- ID Transação: integer (nullable = true)\n",
            " |-- ID Cliente: integer (nullable = true)\n",
            " |-- Data: timestamp (nullable = true)\n",
            " |-- Valor: double (nullable = true)\n",
            " |-- Categoria: string (nullable = true)\n",
            "\n"
          ]
        }
      ]
    },
    {
      "cell_type": "markdown",
      "source": [
        "### 1.2 Publico\n",
        "Esta tabela apresenta uma visão geral das ações e características dos clientes."
      ],
      "metadata": {
        "id": "bxQYTjT95BVP"
      }
    },
    {
      "cell_type": "code",
      "source": [
        "# Lendo CVS do publico em Spark\n",
        "df_publico = spark.read.csv(\"/content/base_churn.csv\", header=True, inferSchema=True)\n",
        "df_publico.createOrReplaceTempView(\"df_publico\")"
      ],
      "metadata": {
        "id": "WITibsZonRMN"
      },
      "execution_count": 25,
      "outputs": []
    },
    {
      "cell_type": "markdown",
      "source": [
        "**Dicionário de dados publico**\n",
        "* `ID` - Número de identificação único para cada cliente.\n",
        "* `Idade` - Idade do cliente.\n",
        "* `Gênero` - Gênero do cliente (por exemplo, 'F' para feminino, 'M' para masculino).\n",
        "* `Dias desde a Inscrição` - O número de dias desde que o cliente se inscreveu.\n",
        "* `Usou Suporte` - Indica se o cliente usou o suporte (1 para sim, 0 para não).\n",
        "* `Plano` - O tipo de plano de serviço ao qual o cliente está inscrito (por exemplo, 'Intermediário', 'Básico').\n",
        "* `Churn` - Indica se o cliente saiu ou não (1 para saiu, 0 para não saiu).\n",
        "\n",
        "\n",
        "\n",
        "\n"
      ],
      "metadata": {
        "id": "s9mPEGzNplO7"
      }
    },
    {
      "cell_type": "code",
      "source": [
        "# Lendo primeiras linhas\n",
        "df_publico.show()"
      ],
      "metadata": {
        "colab": {
          "base_uri": "https://localhost:8080/"
        },
        "id": "2xejByeVrSMr",
        "outputId": "319932a4-c063-48cf-aecb-8e45c2037e08"
      },
      "execution_count": 8,
      "outputs": [
        {
          "output_type": "stream",
          "name": "stdout",
          "text": [
            "+---+-----+------+----------------------+------------+-------------+-----+\n",
            "| ID|Idade|Gênero|Dias desde a Inscrição|Usou Suporte|        Plano|Churn|\n",
            "+---+-----+------+----------------------+------------+-------------+-----+\n",
            "|  1|   21|     F|                  1331|           1|Intermediário|    1|\n",
            "|  2|   21|     M|                  1160|           0|Intermediário|    0|\n",
            "|  3|   62|     M|                   454|           1|       Básico|    0|\n",
            "|  4|   64|     M|                   226|           1|Intermediário|    0|\n",
            "|  5|   61|     M|                   474|           1|     Avançado|    0|\n",
            "|  6|   18|     M|                   419|           0|       Básico|    0|\n",
            "|  7|   52|     M|                  1334|           0|       Básico|    0|\n",
            "|  8|   44|     M|                  1124|           1|Intermediário|    0|\n",
            "|  9|   52|     M|                  1256|           1|Intermediário|    0|\n",
            "| 10|   64|     F|                  1197|           0|       Básico|    0|\n",
            "| 11|   50|     F|                  1820|           1|Intermediário|    0|\n",
            "| 12|   46|     F|                   550|           0|     Avançado|    0|\n",
            "| 13|   65|     M|                  1466|           0|     Avançado|    0|\n",
            "| 14|   33|     M|                  1507|           0|     Avançado|    0|\n",
            "| 15|   19|     F|                  1292|           1|     Avançado|    1|\n",
            "| 16|   22|     F|                  1514|           0|       Básico|    1|\n",
            "| 17|   38|     F|                  1483|           0|Intermediário|    1|\n",
            "| 18|   44|     F|                    32|           0|Intermediário|    0|\n",
            "| 19|   68|     F|                  1203|           1|     Avançado|    1|\n",
            "| 20|   35|     F|                  1157|           1|     Avançado|    1|\n",
            "+---+-----+------+----------------------+------------+-------------+-----+\n",
            "only showing top 20 rows\n",
            "\n"
          ]
        }
      ]
    },
    {
      "cell_type": "code",
      "source": [
        "# Verificando tipos dos dados\n",
        "df_publico.printSchema()"
      ],
      "metadata": {
        "colab": {
          "base_uri": "https://localhost:8080/"
        },
        "id": "T5k7BZjP8K-p",
        "outputId": "1c0e185b-1b7c-46c5-d869-10ef86f1a7d9"
      },
      "execution_count": 9,
      "outputs": [
        {
          "output_type": "stream",
          "name": "stdout",
          "text": [
            "root\n",
            " |-- ID: integer (nullable = true)\n",
            " |-- Idade: integer (nullable = true)\n",
            " |-- Gênero: string (nullable = true)\n",
            " |-- Dias desde a Inscrição: integer (nullable = true)\n",
            " |-- Usou Suporte: integer (nullable = true)\n",
            " |-- Plano: string (nullable = true)\n",
            " |-- Churn: integer (nullable = true)\n",
            "\n"
          ]
        }
      ]
    },
    {
      "cell_type": "markdown",
      "source": [
        "## 2 Criação de variáveis\n",
        "Como mencionado anteriormente, o objetivo deste trabalho é criar variáveis que melhorem o desempenho do nosso algoritmo. Para isso, vamos gerar diversas variáveis por meio de agregações, uma vez que não podemos ter linhas duplicadas para cada cliente, pois isso pode afetar a modelagem de machine learning."
      ],
      "metadata": {
        "id": "aJpuU-MF6nro"
      }
    },
    {
      "cell_type": "markdown",
      "source": [
        "### 2.1 Variável tempo\n",
        "Uma das variáveis essenciais que pretendemos criar é a variável de tempo. Ao agregarmos dados de dias anteriores, poderemos entender melhor o comportamento de compra dos clientes ao longo dos meses passados. Isso nos permitirá identificar tendências sazonais e padrões de compra, o que é crucial para otimizar estratégias de marketing e retenção de clientes. Além disso, essa variável de tempo também será valiosa para previsões futuras, ajudando-nos a antecipar as necessidades dos clientes e personalizar nossas ofertas de acordo com seu histórico de compras. Portanto, criar essa variável de tempo é um passo importante para melhorar o desempenho de nosso algoritmo de machine learning e impulsionar os resultados do negócio."
      ],
      "metadata": {
        "id": "ryp9iJLkYQB7"
      }
    },
    {
      "cell_type": "code",
      "source": [
        "df_transacoes_tempo = spark.sql(\"\"\"\n",
        "SELECT\n",
        "    *,\n",
        "    Data,\n",
        "    CASE\n",
        "        WHEN Data BETWEEN DATE_ADD(MAX(Data) OVER (PARTITION BY `ID Cliente`), -90) AND MAX(Data) OVER (PARTITION BY `ID Cliente`) THEN 1\n",
        "        ELSE 0\n",
        "    END AS ultimos_3_meses_flag,\n",
        "    CASE\n",
        "        WHEN Data BETWEEN DATE_ADD(MAX(Data) OVER (PARTITION BY `ID Cliente`), -180) AND MAX(Data) OVER (PARTITION BY `ID Cliente`) THEN 1\n",
        "        ELSE 0\n",
        "    END AS ultimos_6_meses_flag,\n",
        "    CASE\n",
        "        WHEN Data BETWEEN DATE_ADD(MAX(Data) OVER (PARTITION BY `ID Cliente`), -365) AND MAX(Data) OVER (PARTITION BY `ID Cliente`) THEN 1\n",
        "        ELSE 0\n",
        "    END AS ultimos_12_meses_flag\n",
        "FROM df_transacoes\n",
        "ORDER BY `ID Cliente`;\n",
        "\"\"\")\n",
        "df_transacoes_tempo.createOrReplaceTempView(\"df_transacoes_tempo\")"
      ],
      "metadata": {
        "id": "OeCODnimEi5_"
      },
      "execution_count": 19,
      "outputs": []
    },
    {
      "cell_type": "markdown",
      "source": [
        "### 2.2 Criando variáveis / Categórica, tempo e númerica\n",
        "Vamos criar um loop para a criação de agregações em uma consulta, permitindo-nos montar uma consulta para cada variável categórica existente em nossa base. Além de construir mais de 50 variáveis de forma rápida"
      ],
      "metadata": {
        "id": "37LzOxbSbSIv"
      }
    },
    {
      "cell_type": "code",
      "source": [
        "# Agregações\n",
        "agg = ['SUM', 'MIN', 'MAX', 'AVG']"
      ],
      "metadata": {
        "id": "kV2MOI9tHmC3"
      },
      "execution_count": 11,
      "outputs": []
    },
    {
      "cell_type": "code",
      "source": [
        "# Variável\n",
        "cat = ['Categoria']"
      ],
      "metadata": {
        "id": "4yptzSEgHu9G"
      },
      "execution_count": 12,
      "outputs": []
    },
    {
      "cell_type": "code",
      "source": [
        "# saída\n",
        "dominios = ['Livros', 'Eletrônicos', 'Alimentos', 'Esportes', 'Roupas']"
      ],
      "metadata": {
        "id": "K4hDK7FZHzIr"
      },
      "execution_count": 13,
      "outputs": []
    },
    {
      "cell_type": "code",
      "source": [
        "# Númerica\n",
        "var_num = ['Valor']"
      ],
      "metadata": {
        "id": "llh-F-qzIC4R"
      },
      "execution_count": 14,
      "outputs": []
    },
    {
      "cell_type": "code",
      "source": [
        "# Tempo\n",
        "meses = ['ultimos_3_meses_flag', 'ultimos_6_meses_flag', 'ultimos_12_meses_flag']"
      ],
      "metadata": {
        "id": "N7A9p7AzOc_2"
      },
      "execution_count": 15,
      "outputs": []
    },
    {
      "cell_type": "code",
      "source": [
        "for ag in agg:\n",
        "  for cate in cat:\n",
        "    if cate == 'Categoria':\n",
        "      for dominio in dominios:\n",
        "        for var_n in var_num:\n",
        "          print(ag + '(CASE WHEN ' + cate + '= ' + \"'\" + dominio + \"'\" + ' THEN ' + var_n + ' ELSE 0 END) AS ' + ag + \"_\" + cate + \"_\" + dominio.replace('ô', 'o') + \"_\" + var_n + \",\")\n",
        "        for mes in meses:\n",
        "          if mes == 'ultimos_3_meses_flag':\n",
        "            print(ag + '(CASE WHEN ' + cate + '= ' + \"'\" + dominio + \"'\" \" AND \" + mes + '= 1' + ' THEN ' + var_n + ' ELSE NULL END) AS ' + ag + \"_\" + cate + \"_\" + dominio.replace('ô', 'o') + \"_\" + var_n + mes + \",\")\n",
        "          if mes == 'ultimos_6_meses_flag':\n",
        "            print(ag + '(CASE WHEN ' + cate + '= ' + \"'\" + dominio + \"'\" \" AND \" + mes + '= 1' + ' THEN ' + var_n + ' ELSE NULL END) AS ' + ag + \"_\" + cate + \"_\" + dominio.replace('ô', 'o') + \"_\" + var_n + mes + \",\")\n",
        "          if mes == 'ultimos_12_meses_flag':\n",
        "            print(ag + '(CASE WHEN ' + cate + '= ' + \"'\" + dominio + \"'\" \" AND \" + mes + '= 1' + ' THEN ' + var_n + ' ELSE NULL END) AS ' + ag + \"_\" + cate + \"_\" + dominio.replace('ô', 'o') + \"_\" + var_n + mes + \",\")"
      ],
      "metadata": {
        "colab": {
          "base_uri": "https://localhost:8080/"
        },
        "id": "tzhwLaKxILw2",
        "outputId": "f4430de2-527b-49df-b1c5-b5487070d341"
      },
      "execution_count": 16,
      "outputs": [
        {
          "output_type": "stream",
          "name": "stdout",
          "text": [
            "SUM(CASE WHEN Categoria= 'Livros' THEN Valor ELSE 0 END) AS SUM_Categoria_Livros_Valor,\n",
            "SUM(CASE WHEN Categoria= 'Livros' AND ultimos_3_meses_flag= 1 THEN Valor ELSE NULL END) AS SUM_Categoria_Livros_Valorultimos_3_meses_flag,\n",
            "SUM(CASE WHEN Categoria= 'Livros' AND ultimos_6_meses_flag= 1 THEN Valor ELSE NULL END) AS SUM_Categoria_Livros_Valorultimos_6_meses_flag,\n",
            "SUM(CASE WHEN Categoria= 'Livros' AND ultimos_12_meses_flag= 1 THEN Valor ELSE NULL END) AS SUM_Categoria_Livros_Valorultimos_12_meses_flag,\n",
            "SUM(CASE WHEN Categoria= 'Eletrônicos' THEN Valor ELSE 0 END) AS SUM_Categoria_Eletronicos_Valor,\n",
            "SUM(CASE WHEN Categoria= 'Eletrônicos' AND ultimos_3_meses_flag= 1 THEN Valor ELSE NULL END) AS SUM_Categoria_Eletronicos_Valorultimos_3_meses_flag,\n",
            "SUM(CASE WHEN Categoria= 'Eletrônicos' AND ultimos_6_meses_flag= 1 THEN Valor ELSE NULL END) AS SUM_Categoria_Eletronicos_Valorultimos_6_meses_flag,\n",
            "SUM(CASE WHEN Categoria= 'Eletrônicos' AND ultimos_12_meses_flag= 1 THEN Valor ELSE NULL END) AS SUM_Categoria_Eletronicos_Valorultimos_12_meses_flag,\n",
            "SUM(CASE WHEN Categoria= 'Alimentos' THEN Valor ELSE 0 END) AS SUM_Categoria_Alimentos_Valor,\n",
            "SUM(CASE WHEN Categoria= 'Alimentos' AND ultimos_3_meses_flag= 1 THEN Valor ELSE NULL END) AS SUM_Categoria_Alimentos_Valorultimos_3_meses_flag,\n",
            "SUM(CASE WHEN Categoria= 'Alimentos' AND ultimos_6_meses_flag= 1 THEN Valor ELSE NULL END) AS SUM_Categoria_Alimentos_Valorultimos_6_meses_flag,\n",
            "SUM(CASE WHEN Categoria= 'Alimentos' AND ultimos_12_meses_flag= 1 THEN Valor ELSE NULL END) AS SUM_Categoria_Alimentos_Valorultimos_12_meses_flag,\n",
            "SUM(CASE WHEN Categoria= 'Esportes' THEN Valor ELSE 0 END) AS SUM_Categoria_Esportes_Valor,\n",
            "SUM(CASE WHEN Categoria= 'Esportes' AND ultimos_3_meses_flag= 1 THEN Valor ELSE NULL END) AS SUM_Categoria_Esportes_Valorultimos_3_meses_flag,\n",
            "SUM(CASE WHEN Categoria= 'Esportes' AND ultimos_6_meses_flag= 1 THEN Valor ELSE NULL END) AS SUM_Categoria_Esportes_Valorultimos_6_meses_flag,\n",
            "SUM(CASE WHEN Categoria= 'Esportes' AND ultimos_12_meses_flag= 1 THEN Valor ELSE NULL END) AS SUM_Categoria_Esportes_Valorultimos_12_meses_flag,\n",
            "SUM(CASE WHEN Categoria= 'Roupas' THEN Valor ELSE 0 END) AS SUM_Categoria_Roupas_Valor,\n",
            "SUM(CASE WHEN Categoria= 'Roupas' AND ultimos_3_meses_flag= 1 THEN Valor ELSE NULL END) AS SUM_Categoria_Roupas_Valorultimos_3_meses_flag,\n",
            "SUM(CASE WHEN Categoria= 'Roupas' AND ultimos_6_meses_flag= 1 THEN Valor ELSE NULL END) AS SUM_Categoria_Roupas_Valorultimos_6_meses_flag,\n",
            "SUM(CASE WHEN Categoria= 'Roupas' AND ultimos_12_meses_flag= 1 THEN Valor ELSE NULL END) AS SUM_Categoria_Roupas_Valorultimos_12_meses_flag,\n",
            "MIN(CASE WHEN Categoria= 'Livros' THEN Valor ELSE 0 END) AS MIN_Categoria_Livros_Valor,\n",
            "MIN(CASE WHEN Categoria= 'Livros' AND ultimos_3_meses_flag= 1 THEN Valor ELSE NULL END) AS MIN_Categoria_Livros_Valorultimos_3_meses_flag,\n",
            "MIN(CASE WHEN Categoria= 'Livros' AND ultimos_6_meses_flag= 1 THEN Valor ELSE NULL END) AS MIN_Categoria_Livros_Valorultimos_6_meses_flag,\n",
            "MIN(CASE WHEN Categoria= 'Livros' AND ultimos_12_meses_flag= 1 THEN Valor ELSE NULL END) AS MIN_Categoria_Livros_Valorultimos_12_meses_flag,\n",
            "MIN(CASE WHEN Categoria= 'Eletrônicos' THEN Valor ELSE 0 END) AS MIN_Categoria_Eletronicos_Valor,\n",
            "MIN(CASE WHEN Categoria= 'Eletrônicos' AND ultimos_3_meses_flag= 1 THEN Valor ELSE NULL END) AS MIN_Categoria_Eletronicos_Valorultimos_3_meses_flag,\n",
            "MIN(CASE WHEN Categoria= 'Eletrônicos' AND ultimos_6_meses_flag= 1 THEN Valor ELSE NULL END) AS MIN_Categoria_Eletronicos_Valorultimos_6_meses_flag,\n",
            "MIN(CASE WHEN Categoria= 'Eletrônicos' AND ultimos_12_meses_flag= 1 THEN Valor ELSE NULL END) AS MIN_Categoria_Eletronicos_Valorultimos_12_meses_flag,\n",
            "MIN(CASE WHEN Categoria= 'Alimentos' THEN Valor ELSE 0 END) AS MIN_Categoria_Alimentos_Valor,\n",
            "MIN(CASE WHEN Categoria= 'Alimentos' AND ultimos_3_meses_flag= 1 THEN Valor ELSE NULL END) AS MIN_Categoria_Alimentos_Valorultimos_3_meses_flag,\n",
            "MIN(CASE WHEN Categoria= 'Alimentos' AND ultimos_6_meses_flag= 1 THEN Valor ELSE NULL END) AS MIN_Categoria_Alimentos_Valorultimos_6_meses_flag,\n",
            "MIN(CASE WHEN Categoria= 'Alimentos' AND ultimos_12_meses_flag= 1 THEN Valor ELSE NULL END) AS MIN_Categoria_Alimentos_Valorultimos_12_meses_flag,\n",
            "MIN(CASE WHEN Categoria= 'Esportes' THEN Valor ELSE 0 END) AS MIN_Categoria_Esportes_Valor,\n",
            "MIN(CASE WHEN Categoria= 'Esportes' AND ultimos_3_meses_flag= 1 THEN Valor ELSE NULL END) AS MIN_Categoria_Esportes_Valorultimos_3_meses_flag,\n",
            "MIN(CASE WHEN Categoria= 'Esportes' AND ultimos_6_meses_flag= 1 THEN Valor ELSE NULL END) AS MIN_Categoria_Esportes_Valorultimos_6_meses_flag,\n",
            "MIN(CASE WHEN Categoria= 'Esportes' AND ultimos_12_meses_flag= 1 THEN Valor ELSE NULL END) AS MIN_Categoria_Esportes_Valorultimos_12_meses_flag,\n",
            "MIN(CASE WHEN Categoria= 'Roupas' THEN Valor ELSE 0 END) AS MIN_Categoria_Roupas_Valor,\n",
            "MIN(CASE WHEN Categoria= 'Roupas' AND ultimos_3_meses_flag= 1 THEN Valor ELSE NULL END) AS MIN_Categoria_Roupas_Valorultimos_3_meses_flag,\n",
            "MIN(CASE WHEN Categoria= 'Roupas' AND ultimos_6_meses_flag= 1 THEN Valor ELSE NULL END) AS MIN_Categoria_Roupas_Valorultimos_6_meses_flag,\n",
            "MIN(CASE WHEN Categoria= 'Roupas' AND ultimos_12_meses_flag= 1 THEN Valor ELSE NULL END) AS MIN_Categoria_Roupas_Valorultimos_12_meses_flag,\n",
            "MAX(CASE WHEN Categoria= 'Livros' THEN Valor ELSE 0 END) AS MAX_Categoria_Livros_Valor,\n",
            "MAX(CASE WHEN Categoria= 'Livros' AND ultimos_3_meses_flag= 1 THEN Valor ELSE NULL END) AS MAX_Categoria_Livros_Valorultimos_3_meses_flag,\n",
            "MAX(CASE WHEN Categoria= 'Livros' AND ultimos_6_meses_flag= 1 THEN Valor ELSE NULL END) AS MAX_Categoria_Livros_Valorultimos_6_meses_flag,\n",
            "MAX(CASE WHEN Categoria= 'Livros' AND ultimos_12_meses_flag= 1 THEN Valor ELSE NULL END) AS MAX_Categoria_Livros_Valorultimos_12_meses_flag,\n",
            "MAX(CASE WHEN Categoria= 'Eletrônicos' THEN Valor ELSE 0 END) AS MAX_Categoria_Eletronicos_Valor,\n",
            "MAX(CASE WHEN Categoria= 'Eletrônicos' AND ultimos_3_meses_flag= 1 THEN Valor ELSE NULL END) AS MAX_Categoria_Eletronicos_Valorultimos_3_meses_flag,\n",
            "MAX(CASE WHEN Categoria= 'Eletrônicos' AND ultimos_6_meses_flag= 1 THEN Valor ELSE NULL END) AS MAX_Categoria_Eletronicos_Valorultimos_6_meses_flag,\n",
            "MAX(CASE WHEN Categoria= 'Eletrônicos' AND ultimos_12_meses_flag= 1 THEN Valor ELSE NULL END) AS MAX_Categoria_Eletronicos_Valorultimos_12_meses_flag,\n",
            "MAX(CASE WHEN Categoria= 'Alimentos' THEN Valor ELSE 0 END) AS MAX_Categoria_Alimentos_Valor,\n",
            "MAX(CASE WHEN Categoria= 'Alimentos' AND ultimos_3_meses_flag= 1 THEN Valor ELSE NULL END) AS MAX_Categoria_Alimentos_Valorultimos_3_meses_flag,\n",
            "MAX(CASE WHEN Categoria= 'Alimentos' AND ultimos_6_meses_flag= 1 THEN Valor ELSE NULL END) AS MAX_Categoria_Alimentos_Valorultimos_6_meses_flag,\n",
            "MAX(CASE WHEN Categoria= 'Alimentos' AND ultimos_12_meses_flag= 1 THEN Valor ELSE NULL END) AS MAX_Categoria_Alimentos_Valorultimos_12_meses_flag,\n",
            "MAX(CASE WHEN Categoria= 'Esportes' THEN Valor ELSE 0 END) AS MAX_Categoria_Esportes_Valor,\n",
            "MAX(CASE WHEN Categoria= 'Esportes' AND ultimos_3_meses_flag= 1 THEN Valor ELSE NULL END) AS MAX_Categoria_Esportes_Valorultimos_3_meses_flag,\n",
            "MAX(CASE WHEN Categoria= 'Esportes' AND ultimos_6_meses_flag= 1 THEN Valor ELSE NULL END) AS MAX_Categoria_Esportes_Valorultimos_6_meses_flag,\n",
            "MAX(CASE WHEN Categoria= 'Esportes' AND ultimos_12_meses_flag= 1 THEN Valor ELSE NULL END) AS MAX_Categoria_Esportes_Valorultimos_12_meses_flag,\n",
            "MAX(CASE WHEN Categoria= 'Roupas' THEN Valor ELSE 0 END) AS MAX_Categoria_Roupas_Valor,\n",
            "MAX(CASE WHEN Categoria= 'Roupas' AND ultimos_3_meses_flag= 1 THEN Valor ELSE NULL END) AS MAX_Categoria_Roupas_Valorultimos_3_meses_flag,\n",
            "MAX(CASE WHEN Categoria= 'Roupas' AND ultimos_6_meses_flag= 1 THEN Valor ELSE NULL END) AS MAX_Categoria_Roupas_Valorultimos_6_meses_flag,\n",
            "MAX(CASE WHEN Categoria= 'Roupas' AND ultimos_12_meses_flag= 1 THEN Valor ELSE NULL END) AS MAX_Categoria_Roupas_Valorultimos_12_meses_flag,\n",
            "AVG(CASE WHEN Categoria= 'Livros' THEN Valor ELSE 0 END) AS AVG_Categoria_Livros_Valor,\n",
            "AVG(CASE WHEN Categoria= 'Livros' AND ultimos_3_meses_flag= 1 THEN Valor ELSE NULL END) AS AVG_Categoria_Livros_Valorultimos_3_meses_flag,\n",
            "AVG(CASE WHEN Categoria= 'Livros' AND ultimos_6_meses_flag= 1 THEN Valor ELSE NULL END) AS AVG_Categoria_Livros_Valorultimos_6_meses_flag,\n",
            "AVG(CASE WHEN Categoria= 'Livros' AND ultimos_12_meses_flag= 1 THEN Valor ELSE NULL END) AS AVG_Categoria_Livros_Valorultimos_12_meses_flag,\n",
            "AVG(CASE WHEN Categoria= 'Eletrônicos' THEN Valor ELSE 0 END) AS AVG_Categoria_Eletronicos_Valor,\n",
            "AVG(CASE WHEN Categoria= 'Eletrônicos' AND ultimos_3_meses_flag= 1 THEN Valor ELSE NULL END) AS AVG_Categoria_Eletronicos_Valorultimos_3_meses_flag,\n",
            "AVG(CASE WHEN Categoria= 'Eletrônicos' AND ultimos_6_meses_flag= 1 THEN Valor ELSE NULL END) AS AVG_Categoria_Eletronicos_Valorultimos_6_meses_flag,\n",
            "AVG(CASE WHEN Categoria= 'Eletrônicos' AND ultimos_12_meses_flag= 1 THEN Valor ELSE NULL END) AS AVG_Categoria_Eletronicos_Valorultimos_12_meses_flag,\n",
            "AVG(CASE WHEN Categoria= 'Alimentos' THEN Valor ELSE 0 END) AS AVG_Categoria_Alimentos_Valor,\n",
            "AVG(CASE WHEN Categoria= 'Alimentos' AND ultimos_3_meses_flag= 1 THEN Valor ELSE NULL END) AS AVG_Categoria_Alimentos_Valorultimos_3_meses_flag,\n",
            "AVG(CASE WHEN Categoria= 'Alimentos' AND ultimos_6_meses_flag= 1 THEN Valor ELSE NULL END) AS AVG_Categoria_Alimentos_Valorultimos_6_meses_flag,\n",
            "AVG(CASE WHEN Categoria= 'Alimentos' AND ultimos_12_meses_flag= 1 THEN Valor ELSE NULL END) AS AVG_Categoria_Alimentos_Valorultimos_12_meses_flag,\n",
            "AVG(CASE WHEN Categoria= 'Esportes' THEN Valor ELSE 0 END) AS AVG_Categoria_Esportes_Valor,\n",
            "AVG(CASE WHEN Categoria= 'Esportes' AND ultimos_3_meses_flag= 1 THEN Valor ELSE NULL END) AS AVG_Categoria_Esportes_Valorultimos_3_meses_flag,\n",
            "AVG(CASE WHEN Categoria= 'Esportes' AND ultimos_6_meses_flag= 1 THEN Valor ELSE NULL END) AS AVG_Categoria_Esportes_Valorultimos_6_meses_flag,\n",
            "AVG(CASE WHEN Categoria= 'Esportes' AND ultimos_12_meses_flag= 1 THEN Valor ELSE NULL END) AS AVG_Categoria_Esportes_Valorultimos_12_meses_flag,\n",
            "AVG(CASE WHEN Categoria= 'Roupas' THEN Valor ELSE 0 END) AS AVG_Categoria_Roupas_Valor,\n",
            "AVG(CASE WHEN Categoria= 'Roupas' AND ultimos_3_meses_flag= 1 THEN Valor ELSE NULL END) AS AVG_Categoria_Roupas_Valorultimos_3_meses_flag,\n",
            "AVG(CASE WHEN Categoria= 'Roupas' AND ultimos_6_meses_flag= 1 THEN Valor ELSE NULL END) AS AVG_Categoria_Roupas_Valorultimos_6_meses_flag,\n",
            "AVG(CASE WHEN Categoria= 'Roupas' AND ultimos_12_meses_flag= 1 THEN Valor ELSE NULL END) AS AVG_Categoria_Roupas_Valorultimos_12_meses_flag,\n"
          ]
        }
      ]
    },
    {
      "cell_type": "markdown",
      "source": [
        "### 2.3 Contruindo a query\n",
        "Vamos adicionar a saída do looping feito acima e adiciona em uma query"
      ],
      "metadata": {
        "id": "Zul71XF33DUe"
      }
    },
    {
      "cell_type": "code",
      "source": [
        "df_transacoes_agg = spark.sql(\"\"\"\n",
        "SELECT\n",
        "  `ID Cliente`,\n",
        "  SUM(CASE WHEN Categoria= 'Livros' THEN Valor ELSE 0 END) AS SUM_Categoria_Livros_Valor,\n",
        "  SUM(CASE WHEN Categoria= 'Livros' AND ultimos_3_meses_flag= 1 THEN Valor ELSE NULL END) AS SUM_Categoria_Livros_Valorultimos_3_meses_flag,\n",
        "  SUM(CASE WHEN Categoria= 'Livros' AND ultimos_6_meses_flag= 1 THEN Valor ELSE NULL END) AS SUM_Categoria_Livros_Valorultimos_6_meses_flag,\n",
        "  SUM(CASE WHEN Categoria= 'Livros' AND ultimos_12_meses_flag= 1 THEN Valor ELSE NULL END) AS SUM_Categoria_Livros_Valorultimos_12_meses_flag,\n",
        "  SUM(CASE WHEN Categoria= 'Eletrônicos' THEN Valor ELSE 0 END) AS SUM_Categoria_Eletronicos_Valor,\n",
        "  SUM(CASE WHEN Categoria= 'Eletrônicos' AND ultimos_3_meses_flag= 1 THEN Valor ELSE NULL END) AS SUM_Categoria_Eletronicos_Valorultimos_3_meses_flag,\n",
        "  SUM(CASE WHEN Categoria= 'Eletrônicos' AND ultimos_6_meses_flag= 1 THEN Valor ELSE NULL END) AS SUM_Categoria_Eletronicos_Valorultimos_6_meses_flag,\n",
        "  SUM(CASE WHEN Categoria= 'Eletrônicos' AND ultimos_12_meses_flag= 1 THEN Valor ELSE NULL END) AS SUM_Categoria_Eletronicos_Valorultimos_12_meses_flag,\n",
        "  SUM(CASE WHEN Categoria= 'Alimentos' THEN Valor ELSE 0 END) AS SUM_Categoria_Alimentos_Valor,\n",
        "  SUM(CASE WHEN Categoria= 'Alimentos' AND ultimos_3_meses_flag= 1 THEN Valor ELSE NULL END) AS SUM_Categoria_Alimentos_Valorultimos_3_meses_flag,\n",
        "  SUM(CASE WHEN Categoria= 'Alimentos' AND ultimos_6_meses_flag= 1 THEN Valor ELSE NULL END) AS SUM_Categoria_Alimentos_Valorultimos_6_meses_flag,\n",
        "  SUM(CASE WHEN Categoria= 'Alimentos' AND ultimos_12_meses_flag= 1 THEN Valor ELSE NULL END) AS SUM_Categoria_Alimentos_Valorultimos_12_meses_flag,\n",
        "  SUM(CASE WHEN Categoria= 'Esportes' THEN Valor ELSE 0 END) AS SUM_Categoria_Esportes_Valor,\n",
        "  SUM(CASE WHEN Categoria= 'Esportes' AND ultimos_3_meses_flag= 1 THEN Valor ELSE NULL END) AS SUM_Categoria_Esportes_Valorultimos_3_meses_flag,\n",
        "  SUM(CASE WHEN Categoria= 'Esportes' AND ultimos_6_meses_flag= 1 THEN Valor ELSE NULL END) AS SUM_Categoria_Esportes_Valorultimos_6_meses_flag,\n",
        "  SUM(CASE WHEN Categoria= 'Esportes' AND ultimos_12_meses_flag= 1 THEN Valor ELSE NULL END) AS SUM_Categoria_Esportes_Valorultimos_12_meses_flag,\n",
        "  SUM(CASE WHEN Categoria= 'Roupas' THEN Valor ELSE 0 END) AS SUM_Categoria_Roupas_Valor,\n",
        "  SUM(CASE WHEN Categoria= 'Roupas' AND ultimos_3_meses_flag= 1 THEN Valor ELSE NULL END) AS SUM_Categoria_Roupas_Valorultimos_3_meses_flag,\n",
        "  SUM(CASE WHEN Categoria= 'Roupas' AND ultimos_6_meses_flag= 1 THEN Valor ELSE NULL END) AS SUM_Categoria_Roupas_Valorultimos_6_meses_flag,\n",
        "  SUM(CASE WHEN Categoria= 'Roupas' AND ultimos_12_meses_flag= 1 THEN Valor ELSE NULL END) AS SUM_Categoria_Roupas_Valorultimos_12_meses_flag,\n",
        "  MIN(CASE WHEN Categoria= 'Livros' THEN Valor ELSE 0 END) AS MIN_Categoria_Livros_Valor,\n",
        "  MIN(CASE WHEN Categoria= 'Livros' AND ultimos_3_meses_flag= 1 THEN Valor ELSE NULL END) AS MIN_Categoria_Livros_Valorultimos_3_meses_flag,\n",
        "  MIN(CASE WHEN Categoria= 'Livros' AND ultimos_6_meses_flag= 1 THEN Valor ELSE NULL END) AS MIN_Categoria_Livros_Valorultimos_6_meses_flag,\n",
        "  MIN(CASE WHEN Categoria= 'Livros' AND ultimos_12_meses_flag= 1 THEN Valor ELSE NULL END) AS MIN_Categoria_Livros_Valorultimos_12_meses_flag,\n",
        "  MIN(CASE WHEN Categoria= 'Eletrônicos' THEN Valor ELSE 0 END) AS MIN_Categoria_Eletronicos_Valor,\n",
        "  MIN(CASE WHEN Categoria= 'Eletrônicos' AND ultimos_3_meses_flag= 1 THEN Valor ELSE NULL END) AS MIN_Categoria_Eletronicos_Valorultimos_3_meses_flag,\n",
        "  MIN(CASE WHEN Categoria= 'Eletrônicos' AND ultimos_6_meses_flag= 1 THEN Valor ELSE NULL END) AS MIN_Categoria_Eletronicos_Valorultimos_6_meses_flag,\n",
        "  MIN(CASE WHEN Categoria= 'Eletrônicos' AND ultimos_12_meses_flag= 1 THEN Valor ELSE NULL END) AS MIN_Categoria_Eletronicos_Valorultimos_12_meses_flag,\n",
        "  MIN(CASE WHEN Categoria= 'Alimentos' THEN Valor ELSE 0 END) AS MIN_Categoria_Alimentos_Valor,\n",
        "  MIN(CASE WHEN Categoria= 'Alimentos' AND ultimos_3_meses_flag= 1 THEN Valor ELSE NULL END) AS MIN_Categoria_Alimentos_Valorultimos_3_meses_flag,\n",
        "  MIN(CASE WHEN Categoria= 'Alimentos' AND ultimos_6_meses_flag= 1 THEN Valor ELSE NULL END) AS MIN_Categoria_Alimentos_Valorultimos_6_meses_flag,\n",
        "  MIN(CASE WHEN Categoria= 'Alimentos' AND ultimos_12_meses_flag= 1 THEN Valor ELSE NULL END) AS MIN_Categoria_Alimentos_Valorultimos_12_meses_flag,\n",
        "  MIN(CASE WHEN Categoria= 'Esportes' THEN Valor ELSE 0 END) AS MIN_Categoria_Esportes_Valor,\n",
        "  MIN(CASE WHEN Categoria= 'Esportes' AND ultimos_3_meses_flag= 1 THEN Valor ELSE NULL END) AS MIN_Categoria_Esportes_Valorultimos_3_meses_flag,\n",
        "  MIN(CASE WHEN Categoria= 'Esportes' AND ultimos_6_meses_flag= 1 THEN Valor ELSE NULL END) AS MIN_Categoria_Esportes_Valorultimos_6_meses_flag,\n",
        "  MIN(CASE WHEN Categoria= 'Esportes' AND ultimos_12_meses_flag= 1 THEN Valor ELSE NULL END) AS MIN_Categoria_Esportes_Valorultimos_12_meses_flag,\n",
        "  MIN(CASE WHEN Categoria= 'Roupas' THEN Valor ELSE 0 END) AS MIN_Categoria_Roupas_Valor,\n",
        "  MIN(CASE WHEN Categoria= 'Roupas' AND ultimos_3_meses_flag= 1 THEN Valor ELSE NULL END) AS MIN_Categoria_Roupas_Valorultimos_3_meses_flag,\n",
        "  MIN(CASE WHEN Categoria= 'Roupas' AND ultimos_6_meses_flag= 1 THEN Valor ELSE NULL END) AS MIN_Categoria_Roupas_Valorultimos_6_meses_flag,\n",
        "  MIN(CASE WHEN Categoria= 'Roupas' AND ultimos_12_meses_flag= 1 THEN Valor ELSE NULL END) AS MIN_Categoria_Roupas_Valorultimos_12_meses_flag,\n",
        "  MAX(CASE WHEN Categoria= 'Livros' THEN Valor ELSE 0 END) AS MAX_Categoria_Livros_Valor,\n",
        "  MAX(CASE WHEN Categoria= 'Livros' AND ultimos_3_meses_flag= 1 THEN Valor ELSE NULL END) AS MAX_Categoria_Livros_Valorultimos_3_meses_flag,\n",
        "  MAX(CASE WHEN Categoria= 'Livros' AND ultimos_6_meses_flag= 1 THEN Valor ELSE NULL END) AS MAX_Categoria_Livros_Valorultimos_6_meses_flag,\n",
        "  MAX(CASE WHEN Categoria= 'Livros' AND ultimos_12_meses_flag= 1 THEN Valor ELSE NULL END) AS MAX_Categoria_Livros_Valorultimos_12_meses_flag,\n",
        "  MAX(CASE WHEN Categoria= 'Eletrônicos' THEN Valor ELSE 0 END) AS MAX_Categoria_Eletronicos_Valor,\n",
        "  MAX(CASE WHEN Categoria= 'Eletrônicos' AND ultimos_3_meses_flag= 1 THEN Valor ELSE NULL END) AS MAX_Categoria_Eletronicos_Valorultimos_3_meses_flag,\n",
        "  MAX(CASE WHEN Categoria= 'Eletrônicos' AND ultimos_6_meses_flag= 1 THEN Valor ELSE NULL END) AS MAX_Categoria_Eletronicos_Valorultimos_6_meses_flag,\n",
        "  MAX(CASE WHEN Categoria= 'Eletrônicos' AND ultimos_12_meses_flag= 1 THEN Valor ELSE NULL END) AS MAX_Categoria_Eletronicos_Valorultimos_12_meses_flag,\n",
        "  MAX(CASE WHEN Categoria= 'Alimentos' THEN Valor ELSE 0 END) AS MAX_Categoria_Alimentos_Valor,\n",
        "  MAX(CASE WHEN Categoria= 'Alimentos' AND ultimos_3_meses_flag= 1 THEN Valor ELSE NULL END) AS MAX_Categoria_Alimentos_Valorultimos_3_meses_flag,\n",
        "  MAX(CASE WHEN Categoria= 'Alimentos' AND ultimos_6_meses_flag= 1 THEN Valor ELSE NULL END) AS MAX_Categoria_Alimentos_Valorultimos_6_meses_flag,\n",
        "  MAX(CASE WHEN Categoria= 'Alimentos' AND ultimos_12_meses_flag= 1 THEN Valor ELSE NULL END) AS MAX_Categoria_Alimentos_Valorultimos_12_meses_flag,\n",
        "  MAX(CASE WHEN Categoria= 'Esportes' THEN Valor ELSE 0 END) AS MAX_Categoria_Esportes_Valor,\n",
        "  MAX(CASE WHEN Categoria= 'Esportes' AND ultimos_3_meses_flag= 1 THEN Valor ELSE NULL END) AS MAX_Categoria_Esportes_Valorultimos_3_meses_flag,\n",
        "  MAX(CASE WHEN Categoria= 'Esportes' AND ultimos_6_meses_flag= 1 THEN Valor ELSE NULL END) AS MAX_Categoria_Esportes_Valorultimos_6_meses_flag,\n",
        "  MAX(CASE WHEN Categoria= 'Esportes' AND ultimos_12_meses_flag= 1 THEN Valor ELSE NULL END) AS MAX_Categoria_Esportes_Valorultimos_12_meses_flag,\n",
        "  MAX(CASE WHEN Categoria= 'Roupas' THEN Valor ELSE 0 END) AS MAX_Categoria_Roupas_Valor,\n",
        "  MAX(CASE WHEN Categoria= 'Roupas' AND ultimos_3_meses_flag= 1 THEN Valor ELSE NULL END) AS MAX_Categoria_Roupas_Valorultimos_3_meses_flag,\n",
        "  MAX(CASE WHEN Categoria= 'Roupas' AND ultimos_6_meses_flag= 1 THEN Valor ELSE NULL END) AS MAX_Categoria_Roupas_Valorultimos_6_meses_flag,\n",
        "  MAX(CASE WHEN Categoria= 'Roupas' AND ultimos_12_meses_flag= 1 THEN Valor ELSE NULL END) AS MAX_Categoria_Roupas_Valorultimos_12_meses_flag,\n",
        "  AVG(CASE WHEN Categoria= 'Livros' THEN Valor ELSE 0 END) AS AVG_Categoria_Livros_Valor,\n",
        "  AVG(CASE WHEN Categoria= 'Livros' AND ultimos_3_meses_flag= 1 THEN Valor ELSE NULL END) AS AVG_Categoria_Livros_Valorultimos_3_meses_flag,\n",
        "  AVG(CASE WHEN Categoria= 'Livros' AND ultimos_6_meses_flag= 1 THEN Valor ELSE NULL END) AS AVG_Categoria_Livros_Valorultimos_6_meses_flag,\n",
        "  AVG(CASE WHEN Categoria= 'Livros' AND ultimos_12_meses_flag= 1 THEN Valor ELSE NULL END) AS AVG_Categoria_Livros_Valorultimos_12_meses_flag,\n",
        "  AVG(CASE WHEN Categoria= 'Eletrônicos' THEN Valor ELSE 0 END) AS AVG_Categoria_Eletronicos_Valor,\n",
        "  AVG(CASE WHEN Categoria= 'Eletrônicos' AND ultimos_3_meses_flag= 1 THEN Valor ELSE NULL END) AS AVG_Categoria_Eletronicos_Valorultimos_3_meses_flag,\n",
        "  AVG(CASE WHEN Categoria= 'Eletrônicos' AND ultimos_6_meses_flag= 1 THEN Valor ELSE NULL END) AS AVG_Categoria_Eletronicos_Valorultimos_6_meses_flag,\n",
        "  AVG(CASE WHEN Categoria= 'Eletrônicos' AND ultimos_12_meses_flag= 1 THEN Valor ELSE NULL END) AS AVG_Categoria_Eletronicos_Valorultimos_12_meses_flag,\n",
        "  AVG(CASE WHEN Categoria= 'Alimentos' THEN Valor ELSE 0 END) AS AVG_Categoria_Alimentos_Valor,\n",
        "  AVG(CASE WHEN Categoria= 'Alimentos' AND ultimos_3_meses_flag= 1 THEN Valor ELSE NULL END) AS AVG_Categoria_Alimentos_Valorultimos_3_meses_flag,\n",
        "  AVG(CASE WHEN Categoria= 'Alimentos' AND ultimos_6_meses_flag= 1 THEN Valor ELSE NULL END) AS AVG_Categoria_Alimentos_Valorultimos_6_meses_flag,\n",
        "  AVG(CASE WHEN Categoria= 'Alimentos' AND ultimos_12_meses_flag= 1 THEN Valor ELSE NULL END) AS AVG_Categoria_Alimentos_Valorultimos_12_meses_flag,\n",
        "  AVG(CASE WHEN Categoria= 'Esportes' THEN Valor ELSE 0 END) AS AVG_Categoria_Esportes_Valor,\n",
        "  AVG(CASE WHEN Categoria= 'Esportes' AND ultimos_3_meses_flag= 1 THEN Valor ELSE NULL END) AS AVG_Categoria_Esportes_Valorultimos_3_meses_flag,\n",
        "  AVG(CASE WHEN Categoria= 'Esportes' AND ultimos_6_meses_flag= 1 THEN Valor ELSE NULL END) AS AVG_Categoria_Esportes_Valorultimos_6_meses_flag,\n",
        "  AVG(CASE WHEN Categoria= 'Esportes' AND ultimos_12_meses_flag= 1 THEN Valor ELSE NULL END) AS AVG_Categoria_Esportes_Valorultimos_12_meses_flag,\n",
        "  AVG(CASE WHEN Categoria= 'Roupas' THEN Valor ELSE 0 END) AS AVG_Categoria_Roupas_Valor,\n",
        "  AVG(CASE WHEN Categoria= 'Roupas' AND ultimos_3_meses_flag= 1 THEN Valor ELSE NULL END) AS AVG_Categoria_Roupas_Valorultimos_3_meses_flag,\n",
        "  AVG(CASE WHEN Categoria= 'Roupas' AND ultimos_6_meses_flag= 1 THEN Valor ELSE NULL END) AS AVG_Categoria_Roupas_Valorultimos_6_meses_flag,\n",
        "  AVG(CASE WHEN Categoria= 'Roupas' AND ultimos_12_meses_flag= 1 THEN Valor ELSE NULL END) AS AVG_Categoria_Roupas_Valorultimos_12_meses_flag\n",
        "FROM df_transacoes_tempo\n",
        "GROUP BY `ID Cliente`\n",
        "ORDER BY `ID Cliente`\n",
        "\"\"\")\n",
        "df_transacoes_agg.createOrReplaceTempView(\"df_transacoes_agg\")"
      ],
      "metadata": {
        "id": "uHnC6OvXJ7Ea"
      },
      "execution_count": 30,
      "outputs": []
    },
    {
      "cell_type": "code",
      "source": [
        "# Join com tabela publico\n",
        "df_transacoes_prep = spark.sql(\"\"\"\n",
        "SELECT\n",
        "*\n",
        "FROM df_transacoes_agg as ag inner join df_publico as pu on (ag.`ID Cliente` = pu.ID)\n",
        "\"\"\")"
      ],
      "metadata": {
        "id": "qvVU8tp1HGym"
      },
      "execution_count": 37,
      "outputs": []
    },
    {
      "cell_type": "code",
      "source": [
        "# Exportando para um parquet\n",
        "df_transacoes_prep.write.parquet(path='/content/', mode='overwrite')"
      ],
      "metadata": {
        "id": "CkkCjL0zidqp"
      },
      "execution_count": 38,
      "outputs": []
    }
  ]
}